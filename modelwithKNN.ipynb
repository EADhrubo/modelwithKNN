{
  "nbformat": 4,
  "nbformat_minor": 0,
  "metadata": {
    "colab": {
      "name": "modelwithKNN.ipynb",
      "version": "0.3.2",
      "provenance": [],
      "collapsed_sections": [],
      "include_colab_link": true
    },
    "kernelspec": {
      "name": "python3",
      "display_name": "Python 3"
    },
    "accelerator": "GPU"
  },
  "cells": [
    {
      "cell_type": "markdown",
      "metadata": {
        "id": "view-in-github",
        "colab_type": "text"
      },
      "source": [
        "<a href=\"https://colab.research.google.com/github/EADhrubo/modelwithKNN/blob/master/modelwithKNN.ipynb\" target=\"_parent\"><img src=\"https://colab.research.google.com/assets/colab-badge.svg\" alt=\"Open In Colab\"/></a>"
      ]
    },
    {
      "metadata": {
        "id": "CUm9dvGs71B0",
        "colab_type": "code",
        "colab": {}
      },
      "cell_type": "code",
      "source": [
        "from google.colab import files\n",
        "uploaded = files.upload()"
      ],
      "execution_count": 0,
      "outputs": []
    },
    {
      "metadata": {
        "id": "EduSV_AB8X2I",
        "colab_type": "code",
        "colab": {}
      },
      "cell_type": "code",
      "source": [
        "for fn in uploaded.keys():\n",
        "  print('User uploaded file \"{name}\" with length {length} bytes'.format(name=fn, length=len(uploaded[fn])))"
      ],
      "execution_count": 0,
      "outputs": []
    },
    {
      "metadata": {
        "id": "3ZHYSd6U8yaI",
        "colab_type": "code",
        "colab": {}
      },
      "cell_type": "code",
      "source": [
        "#library\n",
        "import numpy as np\n",
        "#import librosa \n",
        "import scipy.io.wavfile as sciwave\n",
        "from scipy.fftpack import dct\n",
        "import matplotlib.pyplot as plt\n",
        "from numpy.linalg import norm"
      ],
      "execution_count": 0,
      "outputs": []
    },
    {
      "metadata": {
        "id": "GlQauSmK_5fo",
        "colab_type": "code",
        "colab": {}
      },
      "cell_type": "code",
      "source": [
        "# wave signal reading\n",
        "sample_signal = {}\n",
        "sample_rate = {}\n",
        "S = 5 # number of speech\n",
        "N = 15 # amount of speech\n",
        "K = 1\n",
        "for i in range(1,(S+1)):\n",
        "  for j in range(1,(N+1)):\n",
        "    [sample_rate[str(K)] , sample_signal[str(K)]] = sciwave.read(str(i) + \"Recording\" + \" \" + \"(\" + str(j) + \")\" + \".wav\")\n",
        "    K += 1\n"
      ],
      "execution_count": 0,
      "outputs": []
    },
    {
      "metadata": {
        "id": "-tZB5yzX_6lJ",
        "colab_type": "code",
        "colab": {}
      },
      "cell_type": "code",
      "source": [
        "# autocorrelation step\n",
        "freqs = {}\n",
        "auto1 = {}\n",
        "autocorr_signal = {}\n",
        "\n",
        "for i in range(1,K):\n",
        "  freqs[str(i)] = np.fft.rfft(sample_signal[str(i)])\n",
        "  auto1[str(i)] = freqs[str(i)] * np.conj(freqs[str(i)])\n",
        "  autocorr_signal[str(i)] = np.fft.irfft(auto1[str(i)])\n",
        "  "
      ],
      "execution_count": 0,
      "outputs": []
    },
    {
      "metadata": {
        "id": "BM7cma3F_9NJ",
        "colab_type": "code",
        "colab": {}
      },
      "cell_type": "code",
      "source": [
        "# starting point and ending point detection\n",
        "j = 0\n",
        "for i in range(1,K):\n",
        "  while j<8000:\n",
        "    d = np.abs(autocorr_signal[str(i)][j,1] - autocorr_signal[str(i)][(j+1),1])\n",
        "    if  d > 5:\n",
        "      if j < 500:\n",
        "        y = autocorr_signal[str(i)]\n",
        "      elif 500 < j < 1000:\n",
        "        y = autocorr_signal[str(i)][(j-500):]\n",
        "      elif 1000< j < 10000:\n",
        "        y = autocorr_signal[str(i)][(j-1000):]\n",
        "      elif 10000< j < 20000:\n",
        "        y = autocorr_signal[str(i)][(j-10000):]\n",
        "      elif 20000 < j < 50000:\n",
        "        y = autocorr_signal[str(i)][(j-20000):]\n",
        "      else:\n",
        "        y = autocorr_signal[str(i)][(j-50000):]\n",
        "      break\n",
        "    j += 1\n",
        "  n = len(y)\n",
        "  p = n - 1 \n",
        "  while p > 0:\n",
        "    d = np.abs(y[p,1] - y[(p-1),1])\n",
        "    if d > 5:\n",
        "      autocorr_signal[str(i)] = y[:(p+5000)]\n",
        "      break\n",
        "    p -= 1\n"
      ],
      "execution_count": 0,
      "outputs": []
    },
    {
      "metadata": {
        "id": "VasX8asm__cJ",
        "colab_type": "code",
        "colab": {}
      },
      "cell_type": "code",
      "source": [
        "# emphasize or high pass filtering step\n",
        "emphasized_signal = {}\n",
        "pre_emphasis = 0.975\n",
        "for i in range(1,K):\n",
        "  emphasized_signal[str(i)] = np.append(autocorr_signal[str(i)][0], autocorr_signal[str(i)][1:] - pre_emphasis * autocorr_signal[str(i)][:-1])\n"
      ],
      "execution_count": 0,
      "outputs": []
    },
    {
      "metadata": {
        "id": "20hUncTpADbZ",
        "colab_type": "code",
        "colab": {}
      },
      "cell_type": "code",
      "source": [
        "# resample \n",
        "signal = {}\n",
        "from scipy.signal import resample \n",
        "for i in range(1,K):\n",
        "  signal[str(i)]=resample(emphasized_signal[str(i)], 40000 , t=None, axis=0, window=None)\n"
      ],
      "execution_count": 0,
      "outputs": []
    },
    {
      "metadata": {
        "id": "CS1TuFF7AGmI",
        "colab_type": "code",
        "colab": {}
      },
      "cell_type": "code",
      "source": [
        "# framing\n",
        "frame_size = 0.025\n",
        "frame_stride = 0.01\n",
        "frame_length = {}\n",
        "frame_step = {}\n",
        "signal_length = {}\n",
        "frame_length = {}\n",
        "num_frames = {}\n",
        "pad_signal_length = {}\n",
        "z = {}\n",
        "pad_signal = {}\n",
        "indices = {}\n",
        "frames = {}\n",
        "\n",
        "for i in range(1, K):\n",
        "  frame_length[str(i)], frame_step[str(i)] = frame_size * sample_rate[str(i)], frame_stride * sample_rate[str(i)]  # Convert from seconds to samples\n",
        "  signal_length[str(i)] = len(signal[str(i)])\n",
        "  frame_length[str(i)] = int(round(frame_length[str(i)]))\n",
        "  frame_step[str(i)] = int(round(frame_step[str(i)]))\n",
        "  num_frames[str(i)] = int(np.ceil(float(np.abs(signal_length[str(i)] - frame_length[str(i)])) / frame_step[str(i)]))  # MaKe sure that we have at least [str(i)] frame\n",
        "\n",
        "  pad_signal_length[str(i)] = num_frames[str(i)] * frame_step[str(i)] + frame_length[str(i)]\n",
        "  z[str(i)] = np.zeros((pad_signal_length[str(i)] - signal_length[str(i)]))\n",
        "  pad_signal[str(i)] = np.append(signal[str(i)], z[str(i)]) # Pad Signal to maKe sure that all frames have equal number of samples without truncating any samples from the original signal\n",
        "\n",
        "  indices[str(i)] = np.tile(np.arange(0, frame_length[str(i)]), (num_frames[str(i)], 1)) + np.tile(np.arange(0, num_frames[str(i)] * frame_step[str(i)], frame_step[str(i)]), (frame_length[str(i)], 1)).T\n",
        "  frames[str(i)] = pad_signal[str(i)][indices[str(i)].astype(np.int32, copy=False)]\n",
        "  "
      ],
      "execution_count": 0,
      "outputs": []
    },
    {
      "metadata": {
        "id": "yhlGG41mAJ3Z",
        "colab_type": "code",
        "colab": {}
      },
      "cell_type": "code",
      "source": [
        "# windowing with hamming window\n",
        "for i in range(1,K):\n",
        "  frames[str(i)] *= np.hamming(frame_length[str(i)])\n"
      ],
      "execution_count": 0,
      "outputs": []
    },
    {
      "metadata": {
        "id": "hUxHke2_AMCp",
        "colab_type": "code",
        "colab": {}
      },
      "cell_type": "code",
      "source": [
        "# fft and power spectrum\n",
        "NFFT = 512\n",
        "mag_frames = {}\n",
        "pow_frames = {}\n",
        "\n",
        "for i in range(1,K):\n",
        "  mag_frames[str(i)] = np.absolute(np.fft.rfft(frames[str(i)], NFFT))  # Magnitude of the FFT\n",
        "  pow_frames[str(i)] = ((1.0 / NFFT) * ((mag_frames[str(i)]) ** 2))  # Power Spectrum\n",
        "  \n"
      ],
      "execution_count": 0,
      "outputs": []
    },
    {
      "metadata": {
        "id": "Y2S3KeW4AOio",
        "colab_type": "code",
        "colab": {}
      },
      "cell_type": "code",
      "source": [
        "# filter bank forming\n",
        "nfilt = 40\n",
        "high_freq_mel = {}\n",
        "mel_points = {}\n",
        "hz_points = {}\n",
        "biin = {}\n",
        "fbank = {}\n",
        "f_m_minus = {}\n",
        "f_m = {}\n",
        "f_m_plus = {}\n",
        "filter_banks = {}\n",
        "\n",
        "low_freq_mel = 0\n",
        "for i in range(1,K):\n",
        "  high_freq_mel[str(i)] = (2595 * np.log10(1 + (sample_rate[str(i)] / 2) / 700))  # Convert Hz to Mel\n",
        "  mel_points[str(i)] = np.linspace(low_freq_mel, high_freq_mel[str(i)], nfilt + 2)  # Equally spaced in Mel scale\n",
        "  hz_points[str(i)] = (700 * (10**(mel_points[str(i)] / 2595) - 1))  # Convert Mel to Hz\n",
        "  biin[str(i)] = np.floor((NFFT + 1) * hz_points[str(i)] / sample_rate[str(i)])\n",
        "\n",
        "  fbank[str(i)] = np.zeros((nfilt, int(np.floor(NFFT / 2 + 1))))\n",
        "  for m in range(1, nfilt + 1):\n",
        "      f_m_minus[str(i)] = int(biin[str(i)][m - 1])   # left\n",
        "      f_m[str(i)] = int(biin[str(i)][m])             # center\n",
        "      f_m_plus[str(i)] = int(biin[str(i)][m + 1])    # right\n",
        "\n",
        "      for k in range(f_m_minus[str(i)], f_m[str(i)]):\n",
        "          fbank[str(i)][m - 1, k] = (k - biin[str(i)][m - 1]) / (biin[str(i)][m] - biin[str(i)][m - 1])\n",
        "      for k in range(f_m[str(i)], f_m_plus[str(i)]):\n",
        "          fbank[str(i)][m - 1, k] = (biin[str(i)][m + 1] - k) / (biin[str(i)][m + 1] - biin[str(i)][m])\n",
        "  filter_banks[str(i)] = np.dot(pow_frames[str(i)], fbank[str(i)].T)\n",
        "  filter_banks[str(i)] = np.where(filter_banks[str(i)] == 0, np.finfo(float).eps, filter_banks[str(i)])  # Numerical Stability\n",
        "  filter_banks[str(i)] = 20 * np.log10(filter_banks[str(i)])  # dB\n"
      ],
      "execution_count": 0,
      "outputs": []
    },
    {
      "metadata": {
        "id": "T_-C5MNkASKJ",
        "colab_type": "code",
        "colab": {}
      },
      "cell_type": "code",
      "source": [
        "# dct\n",
        "num_ceps = 12\n",
        "mfcc = {}\n",
        "for i in range(1,K):\n",
        "  mfcc[str(i)] = dct(filter_banks[str(i)], type=2, axis=1, norm='ortho')[:, 1 : (num_ceps + 1)] # Keep 2-13"
      ],
      "execution_count": 0,
      "outputs": []
    },
    {
      "metadata": {
        "id": "110YinGqAUb5",
        "colab_type": "code",
        "colab": {}
      },
      "cell_type": "code",
      "source": [
        "# mfcc\n",
        "cep_lifter = 22\n",
        "nframes = {}\n",
        "ncoeff = {}\n",
        "n = {}\n",
        "lift = {}\n",
        "\n",
        "for i in range(1,K):\n",
        "  (nframes[str(i)], ncoeff[str(i)]) = mfcc[str(i)].shape\n",
        "  n[str(i)] = np.arange(ncoeff[str(i)])\n",
        "  lift[str(i)] = 1 + (cep_lifter / 2) * np.sin(np.pi * n[str(i)] / cep_lifter)\n",
        "  mfcc[str(i)] *= lift[str(i)]  #*\n"
      ],
      "execution_count": 0,
      "outputs": []
    },
    {
      "metadata": {
        "id": "H4bnYcn5AWYp",
        "colab_type": "code",
        "colab": {}
      },
      "cell_type": "code",
      "source": [
        "# mean normalization\n",
        "for i in range(1,K):\n",
        "  mfcc[str(i)] -= (np.mean(mfcc[str(i)], axis=0) + 1e-8)"
      ],
      "execution_count": 0,
      "outputs": []
    },
    {
      "metadata": {
        "id": "xIXknXSoAZq5",
        "colab_type": "code",
        "colab": {}
      },
      "cell_type": "code",
      "source": [
        "# dataset construction\n",
        "train = {}\n",
        "test = {}\n",
        "p = 1\n",
        "q = 1\n",
        "for i in range(1,K):\n",
        "  if (i%3) == 0:\n",
        "    test[str(p)] = np.reshape(mfcc[str(i)],(1,mfcc[str(i)].shape[0]*mfcc[str(i)].shape[1]))\n",
        "    p += 1\n",
        "  else:\n",
        "    train[str(q)] = np.reshape(mfcc[str(i)],(1,mfcc[str(i)].shape[0]*mfcc[str(i)].shape[1]))\n",
        "    q += 1\n",
        "  "
      ],
      "execution_count": 0,
      "outputs": []
    },
    {
      "metadata": {
        "id": "-vwWfbUCAccJ",
        "colab_type": "code",
        "colab": {}
      },
      "cell_type": "code",
      "source": [
        "feature = mfcc[str(2)].shape[0]*mfcc[str(2)].shape[1]"
      ],
      "execution_count": 0,
      "outputs": []
    },
    {
      "metadata": {
        "id": "3avxPI-BAfHp",
        "colab_type": "code",
        "colab": {}
      },
      "cell_type": "code",
      "source": [
        "# concatenation\n",
        "X = np.empty((1,feature))\n",
        "for i in range(1, q):\n",
        "  X = np.append(X,train[str(i)],0)\n",
        "X = np.delete(X,[0],0)"
      ],
      "execution_count": 0,
      "outputs": []
    },
    {
      "metadata": {
        "id": "kcqm3Z7vAhwI",
        "colab_type": "code",
        "colab": {}
      },
      "cell_type": "code",
      "source": [
        "# concatenation\n",
        "T = np.empty((1,feature))\n",
        "for i in range(1,p):\n",
        "  T = np.append(T,test[str(i)],0)\n",
        "T = np.delete(T,[0],0)"
      ],
      "execution_count": 0,
      "outputs": []
    },
    {
      "metadata": {
        "id": "wRJVJnVqAokJ",
        "colab_type": "code",
        "colab": {}
      },
      "cell_type": "code",
      "source": [
        "# truth value formation\n",
        "Y_train = []\n",
        "for i in range(1,q):\n",
        "  if i <= 10:\n",
        "    Y_train.append(\"1\")\n",
        "  elif (i>10) and (i<=20):\n",
        "    Y_train.append(\"2\")\n",
        "  elif (i>20) and (i<=30):\n",
        "    Y_train.append(\"3\")\n",
        "  elif (i>30) and (i<=40):\n",
        "    Y_train.append(\"4\")\n",
        "  else:\n",
        "    Y_train.append(\"5\")\n",
        "  "
      ],
      "execution_count": 0,
      "outputs": []
    },
    {
      "metadata": {
        "id": "7PXs_-CAArYa",
        "colab_type": "code",
        "colab": {}
      },
      "cell_type": "code",
      "source": [
        "# truth value formation\n",
        "Y_test = []\n",
        "for i in range(1,p):\n",
        "  if i<= 5:\n",
        "    Y_test.append(\"1\")\n",
        "  elif (i>5) and (i<=10):\n",
        "    Y_test.append(\"2\")\n",
        "  elif (i>10) and (i<=15):\n",
        "    Y_test.append(\"3\")\n",
        "  elif (i>15) and (i<=20):\n",
        "    Y_test.append(\"4\")\n",
        "  else:\n",
        "    Y_test.append(\"5\")"
      ],
      "execution_count": 0,
      "outputs": []
    },
    {
      "metadata": {
        "id": "WuQ6VpqMAupZ",
        "colab_type": "code",
        "colab": {}
      },
      "cell_type": "code",
      "source": [
        "from sklearn.neighbors import KNeighborsClassifier"
      ],
      "execution_count": 0,
      "outputs": []
    },
    {
      "metadata": {
        "id": "xDwYaHW6Aw3J",
        "colab_type": "code",
        "colab": {}
      },
      "cell_type": "code",
      "source": [
        "# KNN classifier\n",
        "model = KNeighborsClassifier(n_neighbors=1)\n",
        "model.fit(X, Y_train)"
      ],
      "execution_count": 0,
      "outputs": []
    },
    {
      "metadata": {
        "id": "2By_M65VAzep",
        "colab_type": "code",
        "colab": {}
      },
      "cell_type": "code",
      "source": [
        "# training prediction\n",
        "x = model.predict(X)"
      ],
      "execution_count": 0,
      "outputs": []
    },
    {
      "metadata": {
        "id": "tKKXCfgcA2I5",
        "colab_type": "code",
        "colab": {}
      },
      "cell_type": "code",
      "source": [
        "# train accuracy\n",
        "c = 0\n",
        "for i in range(q-1):\n",
        "  if (x[i] == Y_train[i]):\n",
        "    c += 1\n",
        "train_accuracy = (c/(q-1))*100\n",
        "train_accuracy"
      ],
      "execution_count": 0,
      "outputs": []
    },
    {
      "metadata": {
        "id": "D2DVWKWuA4lp",
        "colab_type": "code",
        "colab": {}
      },
      "cell_type": "code",
      "source": [
        "# test preidiction\n",
        "t = model.predict(T)"
      ],
      "execution_count": 0,
      "outputs": []
    },
    {
      "metadata": {
        "id": "3ND8g7bnA616",
        "colab_type": "code",
        "colab": {}
      },
      "cell_type": "code",
      "source": [
        "# test accuracy\n",
        "c = 0\n",
        "for i in range(p-1):\n",
        "  if (t[i] == Y_test[i]):\n",
        "    c += 1\n",
        "    print(Y_test[i])\n",
        "test_accuracy = (c/(p-1))*100\n",
        "test_accuracy"
      ],
      "execution_count": 0,
      "outputs": []
    },
    {
      "metadata": {
        "id": "NR2Mvs0qA9wa",
        "colab_type": "code",
        "colab": {}
      },
      "cell_type": "code",
      "source": [
        "sr,s = sciwave.read(\"5Recording (15).wav\")"
      ],
      "execution_count": 0,
      "outputs": []
    },
    {
      "metadata": {
        "id": "bAfHnRTRBd0J",
        "colab_type": "code",
        "colab": {}
      },
      "cell_type": "code",
      "source": [
        "y = model.predict(train[\"40\"])\n",
        "y"
      ],
      "execution_count": 0,
      "outputs": []
    },
    {
      "metadata": {
        "id": "j31Uc4Z2B-VZ",
        "colab_type": "code",
        "colab": {}
      },
      "cell_type": "code",
      "source": [
        "train[\"40\"].shape"
      ],
      "execution_count": 0,
      "outputs": []
    },
    {
      "metadata": {
        "id": "Pl1vAprDD6uZ",
        "colab_type": "code",
        "colab": {}
      },
      "cell_type": "code",
      "source": [
        "import pickle"
      ],
      "execution_count": 0,
      "outputs": []
    },
    {
      "metadata": {
        "id": "puIkBPfgCTg6",
        "colab_type": "code",
        "colab": {}
      },
      "cell_type": "code",
      "source": [
        "filename = 'modelwithKNN.sav'\n",
        "pickle.dump(model, open(filename, 'wb'))"
      ],
      "execution_count": 0,
      "outputs": []
    },
    {
      "metadata": {
        "id": "RmsDi0kIEFa6",
        "colab_type": "code",
        "colab": {}
      },
      "cell_type": "code",
      "source": [
        "loaded_model = pickle.load(open(filename, 'rb'))\n",
        "result = loaded_model.predict(train[\"40\"])\n",
        "result"
      ],
      "execution_count": 0,
      "outputs": []
    },
    {
      "metadata": {
        "id": "jDXu2I5XEXgZ",
        "colab_type": "code",
        "colab": {}
      },
      "cell_type": "code",
      "source": [
        ""
      ],
      "execution_count": 0,
      "outputs": []
    }
  ]
}